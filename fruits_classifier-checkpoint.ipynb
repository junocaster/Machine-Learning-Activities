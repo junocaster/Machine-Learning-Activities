{
 "cells": [
  {
   "cell_type": "code",
   "execution_count": 7,
   "id": "5be14e51-d39c-4875-9aa7-660a485b82cd",
   "metadata": {},
   "outputs": [],
   "source": [
    "import os\n",
    "import numpy as np\n",
    "import matplotlib.pyplot as plt\n",
    "from tensorflow.keras.preprocessing import image\n",
    "from sklearn.model_selection import train_test_split\n",
    "from sklearn.preprocessing import LabelEncoder\n",
    "from sklearn.metrics import accuracy_score"
   ]
  },
  {
   "cell_type": "code",
   "execution_count": 2,
   "id": "4dd04b6a-6c97-4d7c-9414-a041cbbc3ddc",
   "metadata": {},
   "outputs": [],
   "source": [
    "train_dir = \"fruits-360/Training\"\n",
    "test_dir = \"fruits-360/Test\""
   ]
  },
  {
   "cell_type": "code",
   "execution_count": 3,
   "id": "d867e72f-52b9-4673-8b50-cb6329838d2d",
   "metadata": {},
   "outputs": [],
   "source": [
    "img_size = 100\n",
    "X = []\n",
    "y = []"
   ]
  },
  {
   "cell_type": "code",
   "execution_count": 11,
   "id": "dd3c672d-5c87-4085-9d62-205d012e541b",
   "metadata": {},
   "outputs": [],
   "source": [
    "def load_images_from_directory(directory):\n",
    "    for label in os.listdir(directory):  # Loop over each folder in the directory\n",
    "        folder_path = os.path.join(directory, label)\n",
    "        if os.path.isdir(folder_path):\n",
    "            for img_name in os.listdir(folder_path):\n",
    "                img_path = os.path.join(folder_path, img_name)\n",
    "                if img_path.endswith(\".jpg\"): \n",
    "                    # Load and preprocess the image\n",
    "                    img = image.load_img(img_path, target_size=(img_size, img_size))\n",
    "                    img_array = image.img_to_array(img)  # Convert to array\n",
    "                    img_array = img_array.flatten()  # Flatten to 1D array for classifier\n",
    "                    X.append(img_array)\n",
    "                    y.append(label)"
   ]
  },
  {
   "cell_type": "code",
   "execution_count": 8,
   "id": "6d62e152-8e7e-4868-809d-bc0c5d18c80b",
   "metadata": {},
   "outputs": [],
   "source": [
    "load_images_from_directory(train_dir)\n",
    "X = np.array(X)\n",
    "y = np.array(y)"
   ]
  },
  {
   "cell_type": "code",
   "execution_count": 9,
   "id": "8a685fad-b431-43aa-ae19-8ff173a64476",
   "metadata": {},
   "outputs": [],
   "source": [
    "label_encoder = LabelEncoder()\n",
    "y_encoded = label_encoder.fit_transform(y)"
   ]
  },
  {
   "cell_type": "code",
   "execution_count": 10,
   "id": "bc627935-9132-42e9-a92b-ca6bd62cc592",
   "metadata": {},
   "outputs": [],
   "source": [
    "X_train, X_test, y_train, y_test = train_test_split(X, y_encoded, test_size=0.2, random_state=42)"
   ]
  },
  {
   "cell_type": "code",
   "execution_count": null,
   "id": "c1872ec0-04e1-4cb9-8c20-c60c22b6eb44",
   "metadata": {},
   "outputs": [],
   "source": [
    "X_train = X_train / 255.0\n",
    "X_test = X_test / 255.0"
   ]
  },
  {
   "cell_type": "code",
   "execution_count": 13,
   "id": "5ee0505e-16b8-485d-94cb-5920b8e36939",
   "metadata": {},
   "outputs": [
    {
     "ename": "NameError",
     "evalue": "name 'KNeighborsClassifier' is not defined",
     "output_type": "error",
     "traceback": [
      "\u001b[1;31m---------------------------------------------------------------------------\u001b[0m",
      "\u001b[1;31mNameError\u001b[0m                                 Traceback (most recent call last)",
      "Cell \u001b[1;32mIn[13], line 1\u001b[0m\n\u001b[1;32m----> 1\u001b[0m knn \u001b[38;5;241m=\u001b[39m \u001b[43mKNeighborsClassifier\u001b[49m(n_neighbors\u001b[38;5;241m=\u001b[39m\u001b[38;5;241m3\u001b[39m)\n\u001b[0;32m      2\u001b[0m knn\u001b[38;5;241m.\u001b[39mfit(X_train, y_train)\n\u001b[0;32m      3\u001b[0m y_pred_knn \u001b[38;5;241m=\u001b[39m knn\u001b[38;5;241m.\u001b[39mpredict(X_test)\n",
      "\u001b[1;31mNameError\u001b[0m: name 'KNeighborsClassifier' is not defined"
     ]
    }
   ],
   "source": [
    "knn = KNeighborsClassifier(n_neighbors=3)\n",
    "knn.fit(X_train, y_train)\n",
    "y_pred_knn = knn.predict(X_test)\n",
    "print(\"KNN Accuracy:\", accuracy_score(y_test, y_pred_knn))"
   ]
  }
 ],
 "metadata": {
  "kernelspec": {
   "display_name": "Python 3 (ipykernel)",
   "language": "python",
   "name": "python3"
  },
  "language_info": {
   "codemirror_mode": {
    "name": "ipython",
    "version": 3
   },
   "file_extension": ".py",
   "mimetype": "text/x-python",
   "name": "python",
   "nbconvert_exporter": "python",
   "pygments_lexer": "ipython3",
   "version": "3.12.1"
  }
 },
 "nbformat": 4,
 "nbformat_minor": 5
}
